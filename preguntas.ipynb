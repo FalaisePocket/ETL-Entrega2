{
 "cells": [
  {
   "cell_type": "code",
   "execution_count": 30,
   "metadata": {},
   "outputs": [],
   "source": [
    "import pandas as pd\n",
    "from config import connect_databases\n",
    "\n",
    "# Conectar a las bases de datos\n",
    "db_op, db_etl = connect_databases()\n"
   ]
  },
  {
   "cell_type": "code",
   "execution_count": null,
   "metadata": {},
   "outputs": [
    {
     "name": "stdout",
     "output_type": "stream",
     "text": [
      "          mes  numero_servicios\n",
      "0       April              4180\n",
      "1      August              4184\n",
      "2    December                23\n",
      "3    February              2232\n",
      "4     January               272\n",
      "5        July              4399\n",
      "6        June              3998\n",
      "7       March              3130\n",
      "8         May              4506\n",
      "9    November                 6\n",
      "10    October                 5\n",
      "11  September                17\n"
     ]
    }
   ],
   "source": [
    "# Extraer los datos de la tabla mensajeria_servicio\n",
    "query = \"SELECT fecha_solicitud FROM public.mensajeria_servicio WHERE activo = true\"\n",
    "servicios = pd.read_sql_query(query, db_op)\n",
    "\n",
    "# Convertir la columna 'fecha_solicitud' a datetime\n",
    "servicios['fecha_solicitud'] = pd.to_datetime(servicios['fecha_solicitud'], errors='coerce')\n",
    "\n",
    "# Extraer el mes de la fecha\n",
    "servicios['mes'] = servicios['fecha_solicitud'].dt.month_name()\n",
    "\n",
    "# Calcular la cantidad de servicios por mes\n",
    "servicios_por_mes = servicios.groupby('mes').size().reset_index(name='numero_servicios')\n",
    "\n",
    "# Mostrar el resultado\n",
    "print(servicios_por_mes)\n"
   ]
  },
  {
   "cell_type": "code",
   "execution_count": 32,
   "metadata": {},
   "outputs": [
    {
     "name": "stdout",
     "output_type": "stream",
     "text": [
      "         dia  numero_servicios\n",
      "0     Friday              5010\n",
      "1     Monday              4107\n",
      "2   Saturday              2327\n",
      "3     Sunday               793\n",
      "4   Thursday              4902\n",
      "5    Tuesday              5126\n",
      "6  Wednesday              4687\n"
     ]
    }
   ],
   "source": [
    "# Extraer el día de la fecha_solicitud\n",
    "servicios['dia'] = servicios['fecha_solicitud'].dt.day_name()\n",
    "\n",
    "# Calcular la cantidad de servicios por día\n",
    "servicios_por_dia = servicios.groupby('dia').size().reset_index(name='numero_servicios')\n",
    "\n",
    "# Mostrar el resultado\n",
    "print(servicios_por_dia)\n"
   ]
  },
  {
   "cell_type": "code",
   "execution_count": 34,
   "metadata": {},
   "outputs": [
    {
     "name": "stdout",
     "output_type": "stream",
     "text": [
      "1\n",
      "    hora  numero_servicios\n",
      "0      0               137\n",
      "1      1               156\n",
      "2      2               147\n",
      "3      3               102\n",
      "4      4               100\n",
      "5      5               130\n",
      "6      6               876\n",
      "7      7              1050\n",
      "8      8              2614\n",
      "9      9              3367\n",
      "10    10              2925\n",
      "11    11              3270\n",
      "12    12              1743\n",
      "13    13              1435\n",
      "14    14              2527\n",
      "15    15              2619\n",
      "16    16              2100\n",
      "17    17              1354\n",
      "18    18               423\n",
      "19    19               332\n",
      "20    20               214\n",
      "21    21               165\n",
      "22    22               170\n",
      "23    23               152\n"
     ]
    }
   ],
   "source": [
    "import pandas as pd\n",
    "from config import connect_databases\n",
    "\n",
    "# Extraer los datos de los estados de los servicios\n",
    "query = \"\"\"\n",
    "    SELECT ms.id AS key_servicio, es_inicio.hora AS hora_iniciado\n",
    "    FROM mensajeria_servicio ms\n",
    "    LEFT JOIN mensajeria_estadosservicio es_inicio \n",
    "    ON ms.id = es_inicio.servicio_id AND es_inicio.estado_id = 1\n",
    "    WHERE ms.activo = true\n",
    "\"\"\"\n",
    "db_op, db_etl = connect_databases()\n",
    "inicios = pd.read_sql_query(query, db_op)\n",
    "\n",
    "# Verificar si hay valores nulos en 'hora_iniciado'\n",
    "print(inicios['hora_iniciado'].isnull().sum())\n",
    "\n",
    "# Reemplazar los valores nulos con un valor de hora predeterminado (por ejemplo, 00:00)\n",
    "inicios['hora_iniciado'] = inicios['hora_iniciado'].fillna('00:00:00')\n",
    "\n",
    "# Convertir la columna 'hora_iniciado' a tipo timedelta\n",
    "inicios['hora_iniciado'] = pd.to_timedelta(inicios['hora_iniciado'].astype(str), errors='coerce')\n",
    "\n",
    "# Extraer la hora (0-23)\n",
    "inicios['hora'] = inicios['hora_iniciado'].dt.seconds // 3600\n",
    "\n",
    "# Calcular la cantidad de servicios por hora\n",
    "servicios_por_hora = inicios.groupby('hora').size().reset_index(name='numero_servicios')\n",
    "\n",
    "# Mostrar el resultado\n",
    "print(servicios_por_hora)\n"
   ]
  },
  {
   "cell_type": "code",
   "execution_count": 35,
   "metadata": {},
   "outputs": [
    {
     "name": "stdout",
     "output_type": "stream",
     "text": [
      "     cliente_id       mes  numero_servicios\n",
      "0             2     April                 2\n",
      "1             2    August                 1\n",
      "2             2  December                17\n",
      "3             2  February                 9\n",
      "4             2   January                22\n",
      "..          ...       ...               ...\n",
      "103          25      July               170\n",
      "104          25      June               148\n",
      "105          25     March               115\n",
      "106          25       May               150\n",
      "107          27    August                 1\n",
      "\n",
      "[108 rows x 3 columns]\n"
     ]
    }
   ],
   "source": [
    "# Extraer datos de la tabla clientes_usuarioaquitoy\n",
    "query = \"\"\"\n",
    "    SELECT cu.cliente_id, ms.fecha_solicitud\n",
    "    FROM mensajeria_servicio ms\n",
    "    JOIN clientes_usuarioaquitoy cu ON ms.usuario_id = cu.id\n",
    "    WHERE ms.activo = true\n",
    "\"\"\"\n",
    "servicios_cliente = pd.read_sql_query(query, db_op)\n",
    "\n",
    "# Convertir la columna 'fecha_solicitud' a datetime\n",
    "servicios_cliente['fecha_solicitud'] = pd.to_datetime(servicios_cliente['fecha_solicitud'], errors='coerce')\n",
    "\n",
    "# Extraer el mes de la fecha\n",
    "servicios_cliente['mes'] = servicios_cliente['fecha_solicitud'].dt.month_name()\n",
    "\n",
    "# Calcular la cantidad de servicios por cliente y mes\n",
    "servicios_por_cliente_mes = servicios_cliente.groupby(['cliente_id', 'mes']).size().reset_index(name='numero_servicios')\n",
    "\n",
    "# Mostrar el resultado\n",
    "print(servicios_por_cliente_mes)\n"
   ]
  },
  {
   "cell_type": "code",
   "execution_count": null,
   "metadata": {},
   "outputs": [],
   "source": []
  },
  {
   "cell_type": "code",
   "execution_count": null,
   "metadata": {},
   "outputs": [],
   "source": []
  },
  {
   "cell_type": "code",
   "execution_count": null,
   "metadata": {},
   "outputs": [],
   "source": []
  }
 ],
 "metadata": {
  "kernelspec": {
   "display_name": "Python 3",
   "language": "python",
   "name": "python3"
  },
  "language_info": {
   "codemirror_mode": {
    "name": "ipython",
    "version": 3
   },
   "file_extension": ".py",
   "mimetype": "text/x-python",
   "name": "python",
   "nbconvert_exporter": "python",
   "pygments_lexer": "ipython3",
   "version": "3.11.9"
  }
 },
 "nbformat": 4,
 "nbformat_minor": 2
}
